{
  "nbformat": 4,
  "nbformat_minor": 0,
  "metadata": {
    "colab": {
      "provenance": [],
      "authorship_tag": "ABX9TyP8iQnnIUVqXqzXnMrvNZOm",
      "include_colab_link": true
    },
    "kernelspec": {
      "name": "python3",
      "display_name": "Python 3"
    },
    "language_info": {
      "name": "python"
    }
  },
  "cells": [
    {
      "cell_type": "markdown",
      "metadata": {
        "id": "view-in-github",
        "colab_type": "text"
      },
      "source": [
        "<a href=\"https://colab.research.google.com/github/Ishika0409/python/blob/main/Project.ipynb\" target=\"_parent\"><img src=\"https://colab.research.google.com/assets/colab-badge.svg\" alt=\"Open In Colab\"/></a>"
      ]
    },
    {
      "cell_type": "code",
      "source": [
        "import requests\n",
        "\n",
        "def get_weather(api_key, city_name):\n",
        "    base_url = \"http://api.openweathermap.org/data/2.5/weather\"\n",
        "    params = {\n",
        "        'q': city_name,\n",
        "        'appid': api_key,\n",
        "        'units': 'metric'\n",
        "    }\n",
        "\n",
        "    try:\n",
        "        response = requests.get(base_url, params=params)\n",
        "        response.raise_for_status()  # Will raise an HTTPError for bad requests\n",
        "        data = response.json()\n",
        "\n",
        "        print(f\"\\nWeather in {data['name']} ({data['sys']['country']}):\")\n",
        "        print(f\"Temperature: {data['main']['temp']}°C\")\n",
        "        print(f\"Feels like: {data['main']['feels_like']}°C\")\n",
        "        print(f\"Humidity: {data['main']['humidity']}%\")\n",
        "        print(f\"Condition: {data['weather'][0]['description'].capitalize()}\")\n",
        "        print(f\"Wind Speed: {data['wind']['speed']} m/s\")\n",
        "\n",
        "    except requests.exceptions.HTTPError:\n",
        "        print(\"Invalid city name or API request error.\")\n",
        "    except requests.exceptions.RequestException as e:\n",
        "        print(f\"An error occurred: {e}\")\n",
        "    except KeyError:\n",
        "        print(\"Error parsing weather data.\")\n",
        "\n",
        "if __name__ == \"__main__\":\n",
        "    print(\"Welcome to the Weather App\")\n",
        "    api_key = input(\"Enter your OpenWeatherMap API key: \").strip()\n",
        "    city = input(\"Enter the city name: \").strip()\n",
        "    get_weather(api_key, city)\n"
      ],
      "metadata": {
        "colab": {
          "base_uri": "https://localhost:8080/"
        },
        "id": "DmdgZosw5lfy",
        "outputId": "44ce09d7-98ba-4e8f-f5eb-9a90cb27ced7"
      },
      "execution_count": 1,
      "outputs": [
        {
          "output_type": "stream",
          "name": "stdout",
          "text": [
            "Welcome to the Weather App\n",
            "Enter your OpenWeatherMap API key: df7c8fa5e77bd285236250e6f2bc3f69\n",
            "Enter the city name: Delhi\n",
            "\n",
            "Weather in Delhi (IN):\n",
            "Temperature: 32.05°C\n",
            "Feels like: 31.25°C\n",
            "Humidity: 33%\n",
            "Condition: Haze\n",
            "Wind Speed: 3.09 m/s\n"
          ]
        }
      ]
    }
  ]
}